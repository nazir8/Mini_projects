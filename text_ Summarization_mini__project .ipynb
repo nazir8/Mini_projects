{
 "cells": [
  {
   "cell_type": "code",
   "execution_count": 1,
   "id": "5fee7288-e833-41d9-bb6a-0b2e73753e1a",
   "metadata": {},
   "outputs": [],
   "source": [
    "#!pip3 install torch torchvision torchaudio --index-url https://download.pytorch.org/whl/cu118"
   ]
  },
  {
   "cell_type": "code",
   "execution_count": 2,
   "id": "246c5ff2-6317-48dd-8480-4d17a02fbe5d",
   "metadata": {},
   "outputs": [],
   "source": [
    "#!pip install transformers"
   ]
  },
  {
   "cell_type": "code",
   "execution_count": 3,
   "id": "abb6fea3-c4b8-409c-a49a-ca658edce48c",
   "metadata": {},
   "outputs": [],
   "source": [
    "#importing Library\n",
    "from transformers import PegasusForConditionalGeneration, PegasusTokenizer"
   ]
  },
  {
   "cell_type": "code",
   "execution_count": 4,
   "id": "a3fd70bf-e456-4218-8bbf-ec5637ba1421",
   "metadata": {},
   "outputs": [],
   "source": [
    "# Create tokenizer\n",
    "tokenizer = PegasusTokenizer.from_pretrained(\"google/pegasus-xsum\")"
   ]
  },
  {
   "cell_type": "code",
   "execution_count": 5,
   "id": "e99a6741-4df9-49c7-8426-09bc9103a7cb",
   "metadata": {},
   "outputs": [
    {
     "name": "stderr",
     "output_type": "stream",
     "text": [
      "Some weights of PegasusForConditionalGeneration were not initialized from the model checkpoint at google/pegasus-xsum and are newly initialized: ['model.decoder.embed_positions.weight', 'model.encoder.embed_positions.weight']\n",
      "You should probably TRAIN this model on a down-stream task to be able to use it for predictions and inference.\n"
     ]
    }
   ],
   "source": [
    "# Load model\n",
    "model = PegasusForConditionalGeneration.from_pretrained(\"google/pegasus-xsum\")"
   ]
  },
  {
   "cell_type": "code",
   "execution_count": 6,
   "id": "4f1a08e9-64af-4364-be6e-9aab88ecb202",
   "metadata": {},
   "outputs": [],
   "source": [
    "# Input text to be summarized\n",
    "text = \"\"\"  Thus Spoke Zarathustra\" is a philosophical novel written by the German philosopher Friedrich Nietzsche. Published between 1883 and 1885, it is one of Nietzsche's most famous and influential works. The book is structured as a series of speeches delivered by the protagonist, Zarathustra, a fictionalized version of the ancient Persian prophet Zoroaster. In these speeches, Zarathustra expounds on a wide range of philosophical themes, including the nature of existence, morality, the will to power, the concept of the Übermensch (or \"overman\"), and the eternal recurrence. Through allegorical tales, parables, and aphorisms, Nietzsche challenges traditional Western values and calls for the reevaluation of morality, urging individuals to embrace their own uniqueness and create their own values. \"Thus Spoke Zarathustra\" has had a profound impact on modern philosophy, literature, and art, influencing thinkers such as Sigmund Freud, Carl Jung, Martin Heidegger, and Michel Foucault, and inspiring numerous artists, writers, and musicians. Its exploration of existential themes and its poetic, metaphorical style continue to captivate readers and provoke thought centuries after its initial publication\"\"\""
   ]
  },
  {
   "cell_type": "code",
   "execution_count": 7,
   "id": "aabdc92d-e053-4185-ad5e-11b64cf220cb",
   "metadata": {},
   "outputs": [],
   "source": [
    "# Tokenize the input text\n",
    "tokens = tokenizer(text, truncation=True, padding=\"longest\", return_tensors=\"pt\")\n"
   ]
  },
  {
   "cell_type": "code",
   "execution_count": 8,
   "id": "1eec7a1f-60b0-4f6b-8ccf-21960b97b827",
   "metadata": {},
   "outputs": [],
   "source": [
    "# Generate summary using the model\n",
    "summary = model.generate(**tokens)"
   ]
  },
  {
   "cell_type": "code",
   "execution_count": 9,
   "id": "80a970da-9fc7-4c4d-bffa-deac5d0cc9c3",
   "metadata": {},
   "outputs": [],
   "source": [
    "# Convert the summary tokens to text\n",
    "summary_text = tokenizer.decode(summary[0])"
   ]
  },
  {
   "cell_type": "code",
   "execution_count": 10,
   "id": "9c83fff4-91f0-4af0-bfd9-ffaf5729f9db",
   "metadata": {},
   "outputs": [
    {
     "name": "stdout",
     "output_type": "stream",
     "text": [
      "<pad>\"Thus Zarathustra\" is one of the most influential works of modern philosophy, literature, and art, influencing thinkers such as Sigmund Freud, Carl Jung, Martin Heidegger, and Michel Foucault, and inspiring numerous artists, writers, and musicians.</s>\n"
     ]
    }
   ],
   "source": [
    "# Output the summary\n",
    "print(summary_text)"
   ]
  },
  {
   "cell_type": "code",
   "execution_count": null,
   "id": "59091a3d-3e5f-4264-93fc-d68e2114a39c",
   "metadata": {},
   "outputs": [],
   "source": []
  }
 ],
 "metadata": {
  "kernelspec": {
   "display_name": "Python 3 (ipykernel)",
   "language": "python",
   "name": "python3"
  },
  "language_info": {
   "codemirror_mode": {
    "name": "ipython",
    "version": 3
   },
   "file_extension": ".py",
   "mimetype": "text/x-python",
   "name": "python",
   "nbconvert_exporter": "python",
   "pygments_lexer": "ipython3",
   "version": "3.11.7"
  }
 },
 "nbformat": 4,
 "nbformat_minor": 5
}
